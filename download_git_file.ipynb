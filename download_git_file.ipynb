{
 "cells": [
  {
   "cell_type": "code",
   "execution_count": 39,
   "metadata": {},
   "outputs": [],
   "source": [
    "import requests"
   ]
  },
  {
   "cell_type": "code",
   "execution_count": 46,
   "metadata": {},
   "outputs": [],
   "source": [
    "class GitFile:\n",
    "    def __init__(self,url):\n",
    "        self.url = url\n",
    "        self.filename = url.split('/')[-1]\n",
    "    \n",
    "    @property\n",
    "    def raw_url(self):\n",
    "        new_url = self.url.replace('https://github.com/', 'https://raw.githubusercontent.com/')\n",
    "        return new_url.replace('/blob/','/')\n",
    "    \n",
    "    def download(self):\n",
    "        data = requests.get(self.raw_url).text\n",
    "        \n",
    "        with open(self.filename,mode='x') as file:\n",
    "            file.write(data)"
   ]
  },
  {
   "cell_type": "code",
   "execution_count": null,
   "metadata": {},
   "outputs": [],
   "source": [
    "gitfile_url = input('Input git file url:')"
   ]
  },
  {
   "cell_type": "code",
   "execution_count": null,
   "metadata": {},
   "outputs": [],
   "source": [
    "gitfile = GitFile(gitfile_url)"
   ]
  },
  {
   "cell_type": "code",
   "execution_count": null,
   "metadata": {},
   "outputs": [],
   "source": [
    "gitfile.download()"
   ]
  }
 ],
 "metadata": {
  "kernelspec": {
   "display_name": "Python 3",
   "language": "python",
   "name": "python3"
  },
  "language_info": {
   "codemirror_mode": {
    "name": "ipython",
    "version": 3
   },
   "file_extension": ".py",
   "mimetype": "text/x-python",
   "name": "python",
   "nbconvert_exporter": "python",
   "pygments_lexer": "ipython3",
   "version": "3.7.4"
  }
 },
 "nbformat": 4,
 "nbformat_minor": 4
}
